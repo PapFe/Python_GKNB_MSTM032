{
 "cells": [
  {
   "cell_type": "markdown",
   "metadata": {},
   "source": [
    "### Előadás anyag\n",
    "Nézzük meg az 5. heti előadás anyagát tartalmazó Jupyter notebook (05_ea.ipynb) tartalmát! Futtassuk az egyes cellákat, módosítsunk, kisérletezzünk szabadon!"
   ]
  },
  {
   "cell_type": "markdown",
   "metadata": {},
   "source": [
    "### Egy hallgatói adatnyilvántartás\n",
    "Készítsünk megfelelő adatszerkezete(ke)t egy hallgatói adatnyilvántartáshoz! A megkötéseket több lépésben adjuk meg, így a megoldások is több lépésben készíthetők el (mindig csak az adott lépésre fókuszálva)!\n",
    "1. Egy hallgató adatai: név, Neptun kód, érdemjegyek. Minden hallgató ugyanazokat a tárgyakat tanulja (pl. 3 db tárgyat) és egy tárgyból mindenkinek pontosan egy db jegye van. \n",
    "2. Legyen több (pl. két) hallgató a nyilvántartásban!\n",
    "3. A tárgyaknak legyenek nevei!\n",
    "4. A Neptun kód csak egyedi lehessen!\n",
    "5. A hallgatók tanulhassanak különböző tárgyakat!\n",
    "6. A hallgatók egy tárgyból több jegyet is kaphassanak!\n",
    "7. A hallgatóknak lehessenek kedvenc tárgyai!\n",
    "8. A hallgatók egyes adatait ne indexekkel, hanem nevekkel (Név, Neptun kód, Jegyek, Kedvencek) lehessen hivatkozni!"
   ]
  },
  {
   "cell_type": "code",
   "execution_count": null,
   "metadata": {},
   "outputs": [],
   "source": [
    "#1\n",
    "hallgato = [\"Pap Martin\",\"GW1EP3\",2,3,4]"
   ]
  },
  {
   "cell_type": "code",
   "execution_count": 1,
   "metadata": {},
   "outputs": [],
   "source": [
    "#2\n",
    "hallgato1 = [\"Pap Martin\",\"GW1EP3\",2,3,4]\n",
    "hallgato2 = [\"Gipsz Jakab\",\"HK4NZ5\",4,2,1]\n",
    "hallgatok = [hallgato1,hallgato2]"
   ]
  },
  {
   "cell_type": "code",
   "execution_count": 16,
   "metadata": {},
   "outputs": [],
   "source": [
    "#4\n",
    "hallgato1 = [\"Pap Martin\",\"GW1EP3\",2,3,4]\n",
    "hallgato2 = [\"Gipsz Jakab\",\"HK4NZ5\",4,2,1]\n",
    "\n",
    "\n",
    "hallgatok = {\n",
    "    \"GW1EP3\":[\"Pap Martin\",2,3,4],\n",
    "    \"HK4NZ5\":[\"Gipsz Jakab\",4,2,1]\n",
    "}"
   ]
  },
  {
   "cell_type": "code",
   "execution_count": 24,
   "metadata": {},
   "outputs": [
    {
     "name": "stdout",
     "output_type": "stream",
     "text": [
      "Biosz 2\n",
      "Python 3\n",
      "Hálózatok 4\n",
      "Biosz 4\n",
      "Python 2\n",
      "Hálózatok 1\n"
     ]
    }
   ],
   "source": [
    "targyak = (\"Biosz\",\"Python\",\"Hálózatok\")\n",
    "for neptunkod in hallgatok.keys():\n",
    "    for i,targy in enumerate(targyak):\n",
    "        print(targy,hallgatok[neptunkod][i+1])"
   ]
  },
  {
   "cell_type": "code",
   "execution_count": null,
   "metadata": {},
   "outputs": [],
   "source": [
    "hallgatok.append(hallgato1)\n",
    "hallgatok.append(hallgato2)"
   ]
  },
  {
   "cell_type": "code",
   "execution_count": 2,
   "metadata": {},
   "outputs": [
    {
     "data": {
      "text/plain": [
       "[['Pap Martin', 'GW1EP3', 2, 3, 4], ['Gipsz Jakab', 'HK4NZ5', 4, 2, 1]]"
      ]
     },
     "execution_count": 2,
     "metadata": {},
     "output_type": "execute_result"
    }
   ],
   "source": [
    "hallgatok"
   ]
  },
  {
   "cell_type": "code",
   "execution_count": 1,
   "metadata": {},
   "outputs": [
    {
     "name": "stdin",
     "output_type": "stream",
     "text": [
      "Adja meg a nevet:  PM\n",
      "Adja meg a neptunk kódot:  TZ4RE4\n",
      "Adja meg az első tárgy jegyét:  1\n",
      "Adja meg a második tárgy jegyét:  2\n",
      "Adja meg a harmadik tárgy jegyét:  3\n",
      "Adja meg a nevet:  GJ\n",
      "Adja meg a neptunk kódot:  R6H3\n",
      "Adja meg az első tárgy jegyét:  3\n",
      "Adja meg a második tárgy jegyét:  7\n",
      "Adja meg a harmadik tárgy jegyét:  1\n",
      "Adja meg a nevet:  LT\n",
      "Adja meg a neptunk kódot:  MM9K\n",
      "Adja meg az első tárgy jegyét:  5\n",
      "Adja meg a második tárgy jegyét:  4\n",
      "Adja meg a harmadik tárgy jegyét:  4\n"
     ]
    },
    {
     "name": "stdout",
     "output_type": "stream",
     "text": [
      "[['PM', 'TZ4RE4', 1, 2, 3], ['GJ', 'R6H3', 3, 7, 1], ['LT', 'MM9K', 5, 4, 4]]\n"
     ]
    }
   ],
   "source": [
    "#2b\n",
    "hallgatok = []\n",
    "for _ in range(3):\n",
    "    hallgato = []\n",
    "    hallgato.append(input(\"Adja meg a nevet: \"))\n",
    "    hallgato.append(input(\"Adja meg a neptunk kódot: \"))\n",
    "    hallgato.append(int(input(\"Adja meg az első tárgy jegyét: \")))\n",
    "    hallgato.append(int(input(\"Adja meg a második tárgy jegyét: \")))\n",
    "    hallgato.append(int(input(\"Adja meg a harmadik tárgy jegyét: \")))\n",
    "\n",
    "    hallgatok.append(hallgato)\n",
    "\n",
    "print(hallgatok)"
   ]
  },
  {
   "cell_type": "code",
   "execution_count": 3,
   "metadata": {},
   "outputs": [],
   "source": [
    "targyak = (\"Matek\",\"Python\",\"Hálózatok\")\n",
    "hallgato1 = [\"Pap Martin\",\"GW1EP3\",2,3,4]\n",
    "hallgato2 = [\"Gipsz Jakab\",\"HK4NZ5\",4,2,1]\n",
    "hallgatok = [hallgato1,hallgato2]"
   ]
  },
  {
   "cell_type": "code",
   "execution_count": 12,
   "metadata": {},
   "outputs": [
    {
     "name": "stdout",
     "output_type": "stream",
     "text": [
      "Matek\n",
      "2\n",
      "4\n"
     ]
    }
   ],
   "source": [
    "ind = 0\n",
    "print(targyak[ind])\n",
    "print(hallgatok[0][ind+2])\n",
    "print(hallgatok[1][ind+2])"
   ]
  },
  {
   "cell_type": "code",
   "execution_count": 14,
   "metadata": {},
   "outputs": [
    {
     "name": "stdout",
     "output_type": "stream",
     "text": [
      "A Pap Martin hallgatónak a Biosz jegye: 2\n",
      "A Pap Martin hallgatónak a Python jegye: 3\n",
      "A Pap Martin hallgatónak a Hálózatok jegye: 4\n",
      "\n",
      "A Gipsz Jakab hallgatónak a Biosz jegye: 4\n",
      "A Gipsz Jakab hallgatónak a Python jegye: 2\n",
      "A Gipsz Jakab hallgatónak a Hálózatok jegye: 1\n",
      "\n"
     ]
    }
   ],
   "source": [
    "#3\n",
    "hallgato1 = [\"Pap Martin\",\"GW1EP3\",2,3,4]\n",
    "hallgato2 = [\"Gipsz Jakab\",\"HK4NZ5\",4,2,1]\n",
    "hallgatok = [hallgato1,hallgato2]\n",
    "targyak = (\"Biosz\",\"Python\",\"Hálózatok\")\n",
    "for hallgato in hallgatok:\n",
    "    for i,targy in enumerate(targyak):\n",
    "        print(f\"A {hallgato[0]} hallgatónak a {targy} jegye: {hallgato[i+2]}\")\n",
    "    print()"
   ]
  },
  {
   "cell_type": "code",
   "execution_count": 25,
   "metadata": {},
   "outputs": [
    {
     "name": "stdin",
     "output_type": "stream",
     "text": [
      "Adja meg a neptunk kódot:  GW1EP3\n",
      "Adja meg a nevet:  PM\n",
      "Adja meg az első tárgy jegyét:  1\n",
      "Adja meg a második tárgy jegyét:  2\n",
      "Adja meg a harmadik tárgy jegyét:  3\n",
      "Adja meg a neptunk kódot:  KNZ123\n",
      "Adja meg a nevet:  LT\n",
      "Adja meg az első tárgy jegyét:  3\n",
      "Adja meg a második tárgy jegyét:  4\n",
      "Adja meg a harmadik tárgy jegyét:  5\n"
     ]
    },
    {
     "name": "stdout",
     "output_type": "stream",
     "text": [
      "{'GW1EP3': ['PM', 1, 2, 3], 'KNZ123': ['LT', 3, 4, 5]}\n"
     ]
    }
   ],
   "source": [
    "#4\n",
    "hallgatok = {}\n",
    "\n",
    "for _ in range(2):\n",
    "    neptun_kod = input(\"Adja meg a neptunk kódot: \")\n",
    "    hallgato = []\n",
    "    hallgato.append(input(\"Adja meg a nevet: \"))\n",
    "    hallgato.append(int(input(\"Adja meg az első tárgy jegyét: \")))\n",
    "    hallgato.append(int(input(\"Adja meg a második tárgy jegyét: \")))\n",
    "    hallgato.append(int(input(\"Adja meg a harmadik tárgy jegyét: \")))\n",
    "\n",
    "    hallgatok[neptun_kod] = hallgato\n",
    "\n",
    "print(hallgatok)"
   ]
  },
  {
   "cell_type": "code",
   "execution_count": 31,
   "metadata": {
    "scrolled": true
   },
   "outputs": [
    {
     "data": {
      "text/plain": [
       "'PM'"
      ]
     },
     "execution_count": 31,
     "metadata": {},
     "output_type": "execute_result"
    }
   ],
   "source": [
    "#5\n",
    "hallgatok = {\"GW1EP3\":['PM',{\"Matek\":2,'Fizika':5}],\n",
    "             \"GZ2TZK\":['LT',{\"Python\":2}]\n",
    "            }\n",
    "hallgatok[\"GW1EP3\"][0]\n"
   ]
  },
  {
   "cell_type": "code",
   "execution_count": 32,
   "metadata": {},
   "outputs": [
    {
     "name": "stdin",
     "output_type": "stream",
     "text": [
      "Adja meg a neptunk kódot:  GW1EP3\n",
      "Adja meg a nevet:  Pap Martin\n",
      "Adja meg a tárgy nevét:  Matek\n",
      "Adja meg a Matek tárgy jegyét:  2\n",
      "Adja meg a tárgy nevét:  Fizika\n",
      "Adja meg a Fizika tárgy jegyét:  4\n",
      "Adja meg a tárgy nevét:  \n",
      "Adja meg a neptunk kódot:  KZH123\n",
      "Adja meg a nevet:  Lázár Tamás\n",
      "Adja meg a tárgy nevét:  Python\n",
      "Adja meg a Python tárgy jegyét:  2\n",
      "Adja meg a tárgy nevét:  \n"
     ]
    },
    {
     "name": "stdout",
     "output_type": "stream",
     "text": [
      "{'GW1EP3': ['Pap Martin', {'Matek': 2, 'Fizika': 4}], 'KZH123': ['Lázár Tamás', {'Python': 2}]}\n"
     ]
    }
   ],
   "source": [
    "#5b\n",
    "hallgatok = {}\n",
    "for _ in range(2):\n",
    "    hallgato = []\n",
    "    neptun_kod = input(\"Adja meg a neptunk kódot: \")\n",
    "    hallgato.append(input(\"Adja meg a nevet: \"))\n",
    "    targyak = {}\n",
    "    while True:\n",
    "        T = \"\"\n",
    "        T = input(\"Adja meg a tárgy nevét: \")\n",
    "        if T == \"\":\n",
    "            break\n",
    "            \n",
    "        J = int(input(f\"Adja meg a {T} tárgy jegyét: \"))\n",
    "        targyak[T] = J\n",
    "\n",
    "    hallgato.append(targyak)\n",
    "\n",
    "    hallgatok[neptun_kod] = hallgato\n",
    "\n",
    "print(hallgatok)"
   ]
  },
  {
   "cell_type": "code",
   "execution_count": 34,
   "metadata": {},
   "outputs": [
    {
     "data": {
      "text/plain": [
       "2"
      ]
     },
     "execution_count": 34,
     "metadata": {},
     "output_type": "execute_result"
    }
   ],
   "source": [
    "#6\n",
    "hallgatok = {\"GW1EP3\":['PM',{\"Matek\":[2,3,4],'Fizika':[5]}],\n",
    "             \"GZ2TZK\":['LT',{\"Python\":[2,5,5,5]}]\n",
    "            }\n",
    "hallgatok[\"GW1EP3\"][1][\"Matek\"][0]"
   ]
  },
  {
   "cell_type": "code",
   "execution_count": 12,
   "metadata": {},
   "outputs": [
    {
     "name": "stdin",
     "output_type": "stream",
     "text": [
      "Adja meg a neptunk kódot:  GW1EP3\n",
      "Adja meg a nevet:  PM\n",
      "Adja meg a tárgy nevét:  Matek\n",
      "Adja meg a Matek tárgy egyik jegyét:  1\n",
      "Adja meg a Matek tárgy egyik jegyét:  2\n",
      "Adja meg a Matek tárgy egyik jegyét:  3\n",
      "Adja meg a Matek tárgy egyik jegyét:  4\n",
      "Adja meg a Matek tárgy egyik jegyét:  \n",
      "Adja meg a tárgy nevét:  Fizika\n",
      "Adja meg a Fizika tárgy egyik jegyét:  3\n",
      "Adja meg a Fizika tárgy egyik jegyét:  \n",
      "Adja meg a tárgy nevét:  \n",
      "Adja meg a neptunk kódot:  TZKL34\n",
      "Adja meg a nevet:  LT\n",
      "Adja meg a tárgy nevét:  PYthon\n",
      "Adja meg a PYthon tárgy egyik jegyét:  2\n",
      "Adja meg a PYthon tárgy egyik jegyét:  5\n",
      "Adja meg a PYthon tárgy egyik jegyét:  5\n",
      "Adja meg a PYthon tárgy egyik jegyét:  5\n",
      "Adja meg a PYthon tárgy egyik jegyét:  \n",
      "Adja meg a tárgy nevét:  \n"
     ]
    },
    {
     "name": "stdout",
     "output_type": "stream",
     "text": [
      "{'GW1EP3': ['PM', {'Matek': ['1', '2', '3', '4'], 'Fizika': ['3']}], 'TZKL34': ['LT', {'PYthon': ['2', '5', '5', '5']}]}\n"
     ]
    }
   ],
   "source": [
    "#6b\n",
    "hallgatok = {}\n",
    "for _ in range(2):\n",
    "    hallgato = []\n",
    "    neptun_kod = input(\"Adja meg a neptunk kódot: \")\n",
    "    hallgato.append(input(\"Adja meg a nevet: \"))\n",
    "    targyak = {}\n",
    "    while True:\n",
    "        T = \"\"\n",
    "        T = input(\"Adja meg a tárgy nevét: \")\n",
    "        if T == \"\":\n",
    "            break\n",
    "            \n",
    "        J = []\n",
    "        while True:\n",
    "            jegy = \"\"\n",
    "            jegy = input(f\"Adja meg a {T} tárgy egyik jegyét: \")\n",
    "            if jegy == \"\":\n",
    "                break\n",
    "\n",
    "            J.append(int(jegy))\n",
    "            \n",
    "        targyak[T] = J\n",
    "\n",
    "    hallgato.append(targyak)\n",
    "\n",
    "    hallgatok[neptun_kod] = hallgato\n",
    "\n",
    "print(hallgatok)"
   ]
  },
  {
   "cell_type": "code",
   "execution_count": 13,
   "metadata": {},
   "outputs": [
    {
     "data": {
      "text/plain": [
       "{'GW1EP3': ['PM', {'Matek': [2, 3, 4], 'Fizika': [5]}, {'Matek'}],\n",
       " 'GZ2TZK': ['LT', {'Python': [2, 5, 5, 5]}, {'Fizika', 'Python'}]}"
      ]
     },
     "execution_count": 13,
     "metadata": {},
     "output_type": "execute_result"
    }
   ],
   "source": [
    "#7\n",
    "hallgatok = {\"GW1EP3\":['PM',{\"Matek\":[2,3,4],'Fizika':[5]},{\"Matek\"}],\n",
    "             \"GZ2TZK\":['LT',{\"Python\":[2,5,5,5]},{\"Python\",\"Fizika\"}]\n",
    "            }\n",
    "hallgatok"
   ]
  },
  {
   "cell_type": "code",
   "execution_count": 14,
   "metadata": {},
   "outputs": [
    {
     "name": "stdin",
     "output_type": "stream",
     "text": [
      "Adja meg a neptunk kódot:  GW1EP3\n",
      "Adja meg a nevet:  PM\n",
      "Adja meg a tárgy nevét:  Matek\n",
      "Adja meg a Matek tárgy egyik jegyét:  1\n",
      "Adja meg a Matek tárgy egyik jegyét:  2\n",
      "Adja meg a Matek tárgy egyik jegyét:  \n",
      "Adja meg a tárgy nevét:  Fizika\n",
      "Adja meg a Fizika tárgy egyik jegyét:  5\n",
      "Adja meg a Fizika tárgy egyik jegyét:  \n",
      "Adja meg a tárgy nevét:  \n",
      "Adja meg az egyik kedvenc tárgy nevét:  Matek\n",
      "Adja meg az egyik kedvenc tárgy nevét:  \n",
      "Adja meg a neptunk kódot:  LTZ789\n",
      "Adja meg a nevet:  LT\n",
      "Adja meg a tárgy nevét:  PYthon\n",
      "Adja meg a PYthon tárgy egyik jegyét:  2\n",
      "Adja meg a PYthon tárgy egyik jegyét:  5\n",
      "Adja meg a PYthon tárgy egyik jegyét:  5\n",
      "Adja meg a PYthon tárgy egyik jegyét:  5\n",
      "Adja meg a PYthon tárgy egyik jegyét:  \n",
      "Adja meg a tárgy nevét:  \n",
      "Adja meg az egyik kedvenc tárgy nevét:  Python\n",
      "Adja meg az egyik kedvenc tárgy nevét:  Fizika\n",
      "Adja meg az egyik kedvenc tárgy nevét:  \n"
     ]
    },
    {
     "name": "stdout",
     "output_type": "stream",
     "text": [
      "{'GW1EP3': ['PM', {'Matek': [1, 2], 'Fizika': [5]}, {'Matek'}], 'LTZ789': ['LT', {'PYthon': [2, 5, 5, 5]}, {'Fizika', 'Python'}]}\n"
     ]
    }
   ],
   "source": [
    "#7b\n",
    "hallgatok = {}\n",
    "for _ in range(2):\n",
    "    hallgato = []\n",
    "    neptun_kod = input(\"Adja meg a neptunk kódot: \")\n",
    "    hallgato.append(input(\"Adja meg a nevet: \"))\n",
    "    targyak = {}\n",
    "    \n",
    "    while True:\n",
    "        T = \"\"\n",
    "        T = input(\"Adja meg a tárgy nevét: \")\n",
    "        if T == \"\":\n",
    "            break\n",
    "            \n",
    "        J = []\n",
    "        while True:\n",
    "            jegy = \"\"\n",
    "            jegy = input(f\"Adja meg a {T} tárgy egyik jegyét: \")\n",
    "            if jegy == \"\":\n",
    "                break\n",
    "\n",
    "            J.append(int(jegy))\n",
    "            \n",
    "        targyak[T] = J\n",
    "\n",
    "    kedvencek = set()\n",
    "    while True:\n",
    "        T = \"\"\n",
    "        T = input(\"Adja meg az egyik kedvenc tárgy nevét: \")\n",
    "        if T == \"\":\n",
    "            break\n",
    "\n",
    "        kedvencek.add(T)\n",
    "\n",
    "    hallgato.append(targyak)\n",
    "    hallgato.append(kedvencek)\n",
    "    hallgatok[neptun_kod] = hallgato\n",
    "\n",
    "print(hallgatok)"
   ]
  },
  {
   "cell_type": "code",
   "execution_count": 19,
   "metadata": {},
   "outputs": [
    {
     "data": {
      "text/plain": [
       "[2, 3, 4]"
      ]
     },
     "execution_count": 19,
     "metadata": {},
     "output_type": "execute_result"
    }
   ],
   "source": [
    "#8\n",
    "['PM',{\"Matek\":[2,3,4],'Fizika':[5]},{\"Matek\"}]\n",
    "hallgatok = {\"GW1EP3\":{'Név':'PM',\n",
    "                       'Jegyek':{\"Matek\":[2,3,4],'Fizika':[5]},\n",
    "                       'Kedvencek':{\"Matek\"}},\n",
    "             \"GZ2TZK\":{'Név':'LT',\n",
    "                       'Jegyek':{\"Python\":[2,5,5,5]},\n",
    "                       'Kedvencek':{\"Python\",\"Fizika\"}}\n",
    "            }"
   ]
  },
  {
   "cell_type": "code",
   "execution_count": 20,
   "metadata": {},
   "outputs": [
    {
     "name": "stdin",
     "output_type": "stream",
     "text": [
      "Adja meg a neptunk kódot:  GW1EP3\n",
      "Adja meg a nevet:  PM\n",
      "Adja meg a tárgy nevét:  Matek\n",
      "Adja meg a Matek tárgy egyik jegyét:  2\n",
      "Adja meg a Matek tárgy egyik jegyét:  3\n",
      "Adja meg a Matek tárgy egyik jegyét:  4\n",
      "Adja meg a Matek tárgy egyik jegyét:  \n",
      "Adja meg a tárgy nevét:  Fizika\n",
      "Adja meg a Fizika tárgy egyik jegyét:  5\n",
      "Adja meg a Fizika tárgy egyik jegyét:  \n",
      "Adja meg a tárgy nevét:  \n",
      "Adja meg az egyik kedvenc tárgy nevét:  Matek\n",
      "Adja meg az egyik kedvenc tárgy nevét:  \n",
      "Adja meg a neptunk kódot:  LTZ789\n",
      "Adja meg a nevet:  LT\n",
      "Adja meg a tárgy nevét:  Python\n",
      "Adja meg a Python tárgy egyik jegyét:  2\n",
      "Adja meg a Python tárgy egyik jegyét:  5\n",
      "Adja meg a Python tárgy egyik jegyét:  5\n",
      "Adja meg a Python tárgy egyik jegyét:  5\n",
      "Adja meg a Python tárgy egyik jegyét:  \n",
      "Adja meg a tárgy nevét:  \n",
      "Adja meg az egyik kedvenc tárgy nevét:  Fizika\n",
      "Adja meg az egyik kedvenc tárgy nevét:  Python\n",
      "Adja meg az egyik kedvenc tárgy nevét:  \n"
     ]
    },
    {
     "name": "stdout",
     "output_type": "stream",
     "text": [
      "{'GW1EP3': {'Név': 'PM', 'Jegyek': {'Matek': [2, 3, 4], 'Fizika': [5]}, 'Kedvencek': {'Matek'}}, 'LTZ789': {'Név': 'LT', 'Jegyek': {'Python': [2, 5, 5, 5]}, 'Kedvencek': {'Fizika', 'Python'}}}\n"
     ]
    }
   ],
   "source": [
    "#7b\n",
    "hallgatok = {}\n",
    "for _ in range(2):\n",
    "    hallgato = {'Név':\"\",\n",
    "               'Jegyek':{},\n",
    "               'Kedvencek':set()}\n",
    "    \n",
    "    neptun_kod = input(\"Adja meg a neptunk kódot: \")\n",
    "    hallgato['Név'] = input(\"Adja meg a nevet: \")\n",
    "    targyak = {}\n",
    "    \n",
    "    while True:\n",
    "        T = \"\"\n",
    "        T = input(\"Adja meg a tárgy nevét: \")\n",
    "        if T == \"\":\n",
    "            break\n",
    "            \n",
    "        J = []\n",
    "        while True:\n",
    "            jegy = \"\"\n",
    "            jegy = input(f\"Adja meg a {T} tárgy egyik jegyét: \")\n",
    "            if jegy == \"\":\n",
    "                break\n",
    "\n",
    "            J.append(int(jegy))\n",
    "            \n",
    "        targyak[T] = J\n",
    "\n",
    "    kedvencek = set()\n",
    "    while True:\n",
    "        T = \"\"\n",
    "        T = input(\"Adja meg az egyik kedvenc tárgy nevét: \")\n",
    "        if T == \"\":\n",
    "            break\n",
    "\n",
    "        kedvencek.add(T)\n",
    "\n",
    "    hallgato[\"Jegyek\"] = targyak\n",
    "    hallgato[\"Kedvencek\"] = kedvencek\n",
    "    hallgatok[neptun_kod] = hallgato\n",
    "\n",
    "print(hallgatok)"
   ]
  },
  {
   "cell_type": "code",
   "execution_count": 27,
   "metadata": {},
   "outputs": [
    {
     "name": "stdout",
     "output_type": "stream",
     "text": [
      "A GW1EP3 neptunkóddal rendelkező hallgatő adatai:\n",
      "\tNév: PM\n",
      "\tJegyek:\n",
      "\t\tMatek: [2, 3, 4]\n",
      "\t\tFizika: [5]\n",
      "\tKedvencek:\n",
      "\t\tMatek\n",
      "A LTZ789 neptunkóddal rendelkező hallgatő adatai:\n",
      "\tNév: LT\n",
      "\tJegyek:\n",
      "\t\tPython: [2, 5, 5, 5]\n",
      "\tKedvencek:\n",
      "\t\tFizika\n",
      "\t\tPython\n"
     ]
    }
   ],
   "source": [
    "for key in hallgatok.keys():\n",
    "    \n",
    "    print(f\"A {key} neptunkóddal rendelkező hallgatő adatai:\")\n",
    "    \n",
    "    for adat in hallgatok[key].keys():\n",
    "        \n",
    "        if adat == \"Jegyek\":\n",
    "            print(f\"\\t{adat}:\")\n",
    "            \n",
    "            for targy in hallgatok[key][adat].keys():\n",
    "                print(f\"\\t\\t{targy}: {hallgatok[key][adat][targy]}\")\n",
    "                \n",
    "        elif adat == \"Kedvencek\":\n",
    "            print(f\"\\t{adat}:\")\n",
    "            \n",
    "            for kedvenc in hallgatok[key][adat]:\n",
    "                print(f\"\\t\\t{kedvenc}\")\n",
    "        else:\n",
    "            print(f\"\\t{adat}: {hallgatok[key][adat]}\")"
   ]
  }
 ],
 "metadata": {
  "kernelspec": {
   "display_name": "Python 3 (ipykernel)",
   "language": "python",
   "name": "python3"
  },
  "language_info": {
   "codemirror_mode": {
    "name": "ipython",
    "version": 3
   },
   "file_extension": ".py",
   "mimetype": "text/x-python",
   "name": "python",
   "nbconvert_exporter": "python",
   "pygments_lexer": "ipython3",
   "version": "3.11.9"
  }
 },
 "nbformat": 4,
 "nbformat_minor": 4
}
